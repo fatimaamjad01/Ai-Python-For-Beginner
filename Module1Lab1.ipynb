{
  "nbformat": 4,
  "nbformat_minor": 0,
  "metadata": {
    "colab": {
      "provenance": [],
      "authorship_tag": "ABX9TyP3YzNF/aOnVn/dRvay+LT+",
      "include_colab_link": true
    },
    "kernelspec": {
      "name": "python3",
      "display_name": "Python 3"
    },
    "language_info": {
      "name": "python"
    }
  },
  "cells": [
    {
      "cell_type": "markdown",
      "metadata": {
        "id": "view-in-github",
        "colab_type": "text"
      },
      "source": [
        "<a href=\"https://colab.research.google.com/github/fatimaamjad01/Ai-Python-For-Beginner/blob/main/Module1Lab1.ipynb\" target=\"_parent\"><img src=\"https://colab.research.google.com/assets/colab-badge.svg\" alt=\"Open In Colab\"/></a>"
      ]
    },
    {
      "cell_type": "code",
      "execution_count": 1,
      "metadata": {
        "colab": {
          "base_uri": "https://localhost:8080/"
        },
        "id": "t_TngiKUWEGL",
        "outputId": "716c536a-57b8-4cd4-ea1b-50698ad84822"
      },
      "outputs": [
        {
          "output_type": "stream",
          "name": "stdout",
          "text": [
            "Hello World\n"
          ]
        }
      ],
      "source": [
        "#1st Line of code. Output (Hello world)\n",
        "print (\"Hello World\")"
      ]
    },
    {
      "cell_type": "code",
      "source": [
        "#2nd Line Of Code. Output (Hello, You)\n",
        "print (\"Hello, Fatima\")"
      ],
      "metadata": {
        "colab": {
          "base_uri": "https://localhost:8080/"
        },
        "id": "eL5I5ldEWV4C",
        "outputId": "6c85843f-bcfb-46e8-b72d-3185f6337aa1"
      },
      "execution_count": 2,
      "outputs": [
        {
          "output_type": "stream",
          "name": "stdout",
          "text": [
            "Hello, Fatima\n"
          ]
        }
      ]
    },
    {
      "cell_type": "code",
      "source": [
        "#3rd Line Of Code. Output (Hello, Love one)\n",
        "print (\"Hello, Amjad!\")"
      ],
      "metadata": {
        "colab": {
          "base_uri": "https://localhost:8080/"
        },
        "id": "Tdr76QhMYnmI",
        "outputId": "7ee5c0b4-4217-4066-c17f-e4d16fa921d8"
      },
      "execution_count": 4,
      "outputs": [
        {
          "output_type": "stream",
          "name": "stdout",
          "text": [
            "Hello, Amjad!\n"
          ]
        }
      ]
    },
    {
      "cell_type": "code",
      "source": [
        "# Write code that displays your favorite color\n",
        "print (\"My Favourite Colors Are:\", [\"Red\", \"Blue\", \"Brown\"])"
      ],
      "metadata": {
        "colab": {
          "base_uri": "https://localhost:8080/"
        },
        "id": "jSQyyqGhZonB",
        "outputId": "444d608f-1650-45bc-9bf9-d417a926b351"
      },
      "execution_count": 8,
      "outputs": [
        {
          "output_type": "stream",
          "name": "stdout",
          "text": [
            "My Favourite Colors Are: ['Red', 'Blue', 'Brown']\n"
          ]
        }
      ]
    },
    {
      "cell_type": "code",
      "source": [
        "# Write code that answers the question \"How are you feeling today?\"\n",
        "print(\"How are you feeling today?\")\n",
        "print(\"I am feeling good! and you?\")"
      ],
      "metadata": {
        "colab": {
          "base_uri": "https://localhost:8080/"
        },
        "id": "8MI_H0XdbzTc",
        "outputId": "c41c1f15-d24c-4731-f89a-e47a133fe579"
      },
      "execution_count": 9,
      "outputs": [
        {
          "output_type": "stream",
          "name": "stdout",
          "text": [
            "How are you feeling today?\n",
            "I am feeling good! and you?\n"
          ]
        }
      ]
    },
    {
      "cell_type": "code",
      "source": [
        "# Alter your code from the  cell Number (8, Color) so that it will cause an error\n",
        "# print (\"My Favourite Colors Are:\" [\"Red\", \"Blue\", \"Brown\"])\n",
        "print(\"Check Below Cell To See LLM Response\")\n"
      ],
      "metadata": {
        "colab": {
          "base_uri": "https://localhost:8080/"
        },
        "id": "s4saMXxmceg7",
        "outputId": "ea42b58e-d9af-42bf-e8ac-b8312d2f3cd3"
      },
      "execution_count": 13,
      "outputs": [
        {
          "output_type": "stream",
          "name": "stdout",
          "text": [
            "Check Cell Number 10 To See LLM Response\n"
          ]
        }
      ]
    },
    {
      "cell_type": "code",
      "source": [
        "# LLM Response For Cell No 8 Code Error, (For MultiLine Comment Use ( Ctrl + / ))\n",
        "#  In Python, the print() function can take multiple arguments, which are the items you want to display.\n",
        "#  When you provide multiple items to print(), you need to separate them with commas.\n",
        "#  This tells Python that each item is a separate argument to the function.\n",
        "\n",
        "#  Here's why it's necessary:\n",
        "\n",
        "#  Function Arguments: The print() function can accept multiple arguments, and commas are used to separate these arguments.\n",
        "#   Each argument can be a different type, like a string, a list, a number, etc.\n",
        "\n",
        "#  Clarity: Using commas makes it clear to Python and to anyone reading your code that you are printing multiple items.\n",
        "#   Without commas, Python would not know where one item ends and the next begins.\n",
        "#  Syntax: Commas are part of the syntax for calling functions with multiple arguments in Python.\n",
        "#   This is consistent across all functions, not just print().\n"
      ],
      "metadata": {
        "id": "76Bq9EHQdXcp"
      },
      "execution_count": 12,
      "outputs": []
    },
    {
      "cell_type": "code",
      "source": [],
      "metadata": {
        "id": "D6hyrBlBj2XS"
      },
      "execution_count": null,
      "outputs": []
    }
  ]
}